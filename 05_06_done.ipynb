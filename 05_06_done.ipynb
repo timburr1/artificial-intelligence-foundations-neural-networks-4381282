{
  "cells": [
    {
      "cell_type": "markdown",
      "metadata": {
        "id": "DGPlYumZnO1t"
      },
      "source": [
        "# Manual Hyperparameter Tuning a Neural Network\n",
        "\n",
        "## Introduction\n",
        "In Challenge 4, we built a simple neural network using Keras. In this challenge, we will manually experiment with hyperarameters.\n",
        "\n",
        "This notebook contains the same workflow. Step 2 is the section that shows the simple 3-layer neural network from chapter 4. Section three is for you to change the same neural network by adding additional layers, neurons, and changing the number of epochs - then running the plot graph cell to see the results.\n",
        "\n",
        "NOTE: Be sure to re-run the begining cells before working on Section 3.\n",
        "\n",
        "## Dataset\n",
        "The advertising dataset captures the sales revenue generated with respect to advertisement costs across numerous platforms like radio, TV, and newspapers.\n",
        "\n",
        "### Features:\n",
        "\n",
        "#### Digital: advertising dollars spent on Internet.\n",
        "#### TV: advertising dollars spent on TV.\n",
        "#### Radio: advertising dollars spent on Radio.\n",
        "#### Newspaper: advertising dollars spent on Newspaper.\n",
        "\n",
        "### Target (Label):\n",
        "#### Sales budget"
      ]
    },
    {
      "cell_type": "markdown",
      "metadata": {
        "id": "YBXAUbijjNBF"
      },
      "source": [
        "# Step 1: Data Preparation"
      ]
    },
    {
      "cell_type": "markdown",
      "metadata": {
        "id": "AsHg6SD2nO1v"
      },
      "source": [
        "### Import Libraries"
      ]
    },
    {
      "cell_type": "code",
      "execution_count": 1,
      "metadata": {
        "id": "gEXV-RxPnO1w"
      },
      "outputs": [],
      "source": [
        "# Import the necessary libraries\n",
        "\n",
        "# For Data loading, Exploraotry Data Analysis, Graphing\n",
        "import pandas as pd   # Pandas for data processing libraries\n",
        "import numpy as np    # Numpy for mathematical functions\n",
        "\n",
        "import matplotlib.pyplot as plt # Matplotlib for visualization tasks\n",
        "import seaborn as sns # Seaborn for data visualization library based on matplotlib.\n",
        "%matplotlib inline\n",
        "\n",
        "import sklearn        # ML tasks\n",
        "from sklearn.model_selection import train_test_split # Split the dataset\n",
        "from sklearn.metrics import mean_squared_error  # Calculate Mean Squared Error\n",
        "\n",
        "# Build the Network\n",
        "from tensorflow import keras\n",
        "from keras.models import Sequential\n",
        "#from tensorflow.keras.models import Sequential\n",
        "from keras.layers import Dense\n"
      ]
    },
    {
      "cell_type": "code",
      "execution_count": 3,
      "metadata": {
        "id": "wSDtqpd-Dk9H"
      },
      "outputs": [],
      "source": [
        "# Next, you read the dataset into a Pandas dataframe.\n",
        "\n",
        "url = 'https://github.com/LinkedInLearning/artificial-intelligence-foundations-neural-networks-4381282/blob/main/Advertising_2023.csv?raw=true'\n",
        "advertising_df= pd.read_csv(url,index_col=0)\n"
      ]
    },
    {
      "cell_type": "code",
      "execution_count": 4,
      "metadata": {
        "id": "coiKjFmcnaHU",
        "colab": {
          "base_uri": "https://localhost:8080/"
        },
        "outputId": "42e37d4f-b466-41e1-98e2-7d8ab9945a9b"
      },
      "outputs": [
        {
          "output_type": "stream",
          "name": "stdout",
          "text": [
            "<class 'pandas.core.frame.DataFrame'>\n",
            "Int64Index: 1199 entries, 1 to 1197\n",
            "Data columns (total 5 columns):\n",
            " #   Column     Non-Null Count  Dtype  \n",
            "---  ------     --------------  -----  \n",
            " 0   digital    1199 non-null   float64\n",
            " 1   TV         1199 non-null   float64\n",
            " 2   radio      1199 non-null   float64\n",
            " 3   newspaper  1199 non-null   float64\n",
            " 4   sales      1199 non-null   float64\n",
            "dtypes: float64(5)\n",
            "memory usage: 56.2 KB\n"
          ]
        }
      ],
      "source": [
        "# Pandas info() function is used to get a concise summary of the dataframe.\n",
        "advertising_df.info()"
      ]
    },
    {
      "cell_type": "code",
      "execution_count": 5,
      "metadata": {
        "id": "BTNIhkVYv9HZ",
        "colab": {
          "base_uri": "https://localhost:8080/",
          "height": 300
        },
        "outputId": "2bccd989-0105-4e3f-a923-d5bcff320ed5"
      },
      "outputs": [
        {
          "output_type": "execute_result",
          "data": {
            "text/plain": [
              "           digital          TV        radio    newspaper        sales\n",
              "count  1199.000000  1199.00000  1199.000000  1199.000000  1199.000000\n",
              "mean    135.472394   146.61985    23.240617    30.529942    14.005505\n",
              "std     135.730821    85.61047    14.820827    21.712507     5.202804\n",
              "min       0.300000     0.70000     0.000000     0.300000     1.600000\n",
              "25%      24.250000    73.40000     9.950000    12.800000    10.300000\n",
              "50%      64.650000   149.70000    22.500000    25.600000    12.900000\n",
              "75%     256.950000   218.50000    36.500000    45.100000    17.400000\n",
              "max     444.600000   296.40000    49.600000   114.000000    27.000000"
            ],
            "text/html": [
              "\n",
              "  <div id=\"df-ab558e7e-36fb-4cfd-bb6e-2d694d379254\" class=\"colab-df-container\">\n",
              "    <div>\n",
              "<style scoped>\n",
              "    .dataframe tbody tr th:only-of-type {\n",
              "        vertical-align: middle;\n",
              "    }\n",
              "\n",
              "    .dataframe tbody tr th {\n",
              "        vertical-align: top;\n",
              "    }\n",
              "\n",
              "    .dataframe thead th {\n",
              "        text-align: right;\n",
              "    }\n",
              "</style>\n",
              "<table border=\"1\" class=\"dataframe\">\n",
              "  <thead>\n",
              "    <tr style=\"text-align: right;\">\n",
              "      <th></th>\n",
              "      <th>digital</th>\n",
              "      <th>TV</th>\n",
              "      <th>radio</th>\n",
              "      <th>newspaper</th>\n",
              "      <th>sales</th>\n",
              "    </tr>\n",
              "  </thead>\n",
              "  <tbody>\n",
              "    <tr>\n",
              "      <th>count</th>\n",
              "      <td>1199.000000</td>\n",
              "      <td>1199.00000</td>\n",
              "      <td>1199.000000</td>\n",
              "      <td>1199.000000</td>\n",
              "      <td>1199.000000</td>\n",
              "    </tr>\n",
              "    <tr>\n",
              "      <th>mean</th>\n",
              "      <td>135.472394</td>\n",
              "      <td>146.61985</td>\n",
              "      <td>23.240617</td>\n",
              "      <td>30.529942</td>\n",
              "      <td>14.005505</td>\n",
              "    </tr>\n",
              "    <tr>\n",
              "      <th>std</th>\n",
              "      <td>135.730821</td>\n",
              "      <td>85.61047</td>\n",
              "      <td>14.820827</td>\n",
              "      <td>21.712507</td>\n",
              "      <td>5.202804</td>\n",
              "    </tr>\n",
              "    <tr>\n",
              "      <th>min</th>\n",
              "      <td>0.300000</td>\n",
              "      <td>0.70000</td>\n",
              "      <td>0.000000</td>\n",
              "      <td>0.300000</td>\n",
              "      <td>1.600000</td>\n",
              "    </tr>\n",
              "    <tr>\n",
              "      <th>25%</th>\n",
              "      <td>24.250000</td>\n",
              "      <td>73.40000</td>\n",
              "      <td>9.950000</td>\n",
              "      <td>12.800000</td>\n",
              "      <td>10.300000</td>\n",
              "    </tr>\n",
              "    <tr>\n",
              "      <th>50%</th>\n",
              "      <td>64.650000</td>\n",
              "      <td>149.70000</td>\n",
              "      <td>22.500000</td>\n",
              "      <td>25.600000</td>\n",
              "      <td>12.900000</td>\n",
              "    </tr>\n",
              "    <tr>\n",
              "      <th>75%</th>\n",
              "      <td>256.950000</td>\n",
              "      <td>218.50000</td>\n",
              "      <td>36.500000</td>\n",
              "      <td>45.100000</td>\n",
              "      <td>17.400000</td>\n",
              "    </tr>\n",
              "    <tr>\n",
              "      <th>max</th>\n",
              "      <td>444.600000</td>\n",
              "      <td>296.40000</td>\n",
              "      <td>49.600000</td>\n",
              "      <td>114.000000</td>\n",
              "      <td>27.000000</td>\n",
              "    </tr>\n",
              "  </tbody>\n",
              "</table>\n",
              "</div>\n",
              "    <div class=\"colab-df-buttons\">\n",
              "\n",
              "  <div class=\"colab-df-container\">\n",
              "    <button class=\"colab-df-convert\" onclick=\"convertToInteractive('df-ab558e7e-36fb-4cfd-bb6e-2d694d379254')\"\n",
              "            title=\"Convert this dataframe to an interactive table.\"\n",
              "            style=\"display:none;\">\n",
              "\n",
              "  <svg xmlns=\"http://www.w3.org/2000/svg\" height=\"24px\" viewBox=\"0 -960 960 960\">\n",
              "    <path d=\"M120-120v-720h720v720H120Zm60-500h600v-160H180v160Zm220 220h160v-160H400v160Zm0 220h160v-160H400v160ZM180-400h160v-160H180v160Zm440 0h160v-160H620v160ZM180-180h160v-160H180v160Zm440 0h160v-160H620v160Z\"/>\n",
              "  </svg>\n",
              "    </button>\n",
              "\n",
              "  <style>\n",
              "    .colab-df-container {\n",
              "      display:flex;\n",
              "      gap: 12px;\n",
              "    }\n",
              "\n",
              "    .colab-df-convert {\n",
              "      background-color: #E8F0FE;\n",
              "      border: none;\n",
              "      border-radius: 50%;\n",
              "      cursor: pointer;\n",
              "      display: none;\n",
              "      fill: #1967D2;\n",
              "      height: 32px;\n",
              "      padding: 0 0 0 0;\n",
              "      width: 32px;\n",
              "    }\n",
              "\n",
              "    .colab-df-convert:hover {\n",
              "      background-color: #E2EBFA;\n",
              "      box-shadow: 0px 1px 2px rgba(60, 64, 67, 0.3), 0px 1px 3px 1px rgba(60, 64, 67, 0.15);\n",
              "      fill: #174EA6;\n",
              "    }\n",
              "\n",
              "    .colab-df-buttons div {\n",
              "      margin-bottom: 4px;\n",
              "    }\n",
              "\n",
              "    [theme=dark] .colab-df-convert {\n",
              "      background-color: #3B4455;\n",
              "      fill: #D2E3FC;\n",
              "    }\n",
              "\n",
              "    [theme=dark] .colab-df-convert:hover {\n",
              "      background-color: #434B5C;\n",
              "      box-shadow: 0px 1px 3px 1px rgba(0, 0, 0, 0.15);\n",
              "      filter: drop-shadow(0px 1px 2px rgba(0, 0, 0, 0.3));\n",
              "      fill: #FFFFFF;\n",
              "    }\n",
              "  </style>\n",
              "\n",
              "    <script>\n",
              "      const buttonEl =\n",
              "        document.querySelector('#df-ab558e7e-36fb-4cfd-bb6e-2d694d379254 button.colab-df-convert');\n",
              "      buttonEl.style.display =\n",
              "        google.colab.kernel.accessAllowed ? 'block' : 'none';\n",
              "\n",
              "      async function convertToInteractive(key) {\n",
              "        const element = document.querySelector('#df-ab558e7e-36fb-4cfd-bb6e-2d694d379254');\n",
              "        const dataTable =\n",
              "          await google.colab.kernel.invokeFunction('convertToInteractive',\n",
              "                                                    [key], {});\n",
              "        if (!dataTable) return;\n",
              "\n",
              "        const docLinkHtml = 'Like what you see? Visit the ' +\n",
              "          '<a target=\"_blank\" href=https://colab.research.google.com/notebooks/data_table.ipynb>data table notebook</a>'\n",
              "          + ' to learn more about interactive tables.';\n",
              "        element.innerHTML = '';\n",
              "        dataTable['output_type'] = 'display_data';\n",
              "        await google.colab.output.renderOutput(dataTable, element);\n",
              "        const docLink = document.createElement('div');\n",
              "        docLink.innerHTML = docLinkHtml;\n",
              "        element.appendChild(docLink);\n",
              "      }\n",
              "    </script>\n",
              "  </div>\n",
              "\n",
              "\n",
              "<div id=\"df-653e799d-e6b2-4939-8303-130e04af329e\">\n",
              "  <button class=\"colab-df-quickchart\" onclick=\"quickchart('df-653e799d-e6b2-4939-8303-130e04af329e')\"\n",
              "            title=\"Suggest charts\"\n",
              "            style=\"display:none;\">\n",
              "\n",
              "<svg xmlns=\"http://www.w3.org/2000/svg\" height=\"24px\"viewBox=\"0 0 24 24\"\n",
              "     width=\"24px\">\n",
              "    <g>\n",
              "        <path d=\"M19 3H5c-1.1 0-2 .9-2 2v14c0 1.1.9 2 2 2h14c1.1 0 2-.9 2-2V5c0-1.1-.9-2-2-2zM9 17H7v-7h2v7zm4 0h-2V7h2v10zm4 0h-2v-4h2v4z\"/>\n",
              "    </g>\n",
              "</svg>\n",
              "  </button>\n",
              "\n",
              "<style>\n",
              "  .colab-df-quickchart {\n",
              "      --bg-color: #E8F0FE;\n",
              "      --fill-color: #1967D2;\n",
              "      --hover-bg-color: #E2EBFA;\n",
              "      --hover-fill-color: #174EA6;\n",
              "      --disabled-fill-color: #AAA;\n",
              "      --disabled-bg-color: #DDD;\n",
              "  }\n",
              "\n",
              "  [theme=dark] .colab-df-quickchart {\n",
              "      --bg-color: #3B4455;\n",
              "      --fill-color: #D2E3FC;\n",
              "      --hover-bg-color: #434B5C;\n",
              "      --hover-fill-color: #FFFFFF;\n",
              "      --disabled-bg-color: #3B4455;\n",
              "      --disabled-fill-color: #666;\n",
              "  }\n",
              "\n",
              "  .colab-df-quickchart {\n",
              "    background-color: var(--bg-color);\n",
              "    border: none;\n",
              "    border-radius: 50%;\n",
              "    cursor: pointer;\n",
              "    display: none;\n",
              "    fill: var(--fill-color);\n",
              "    height: 32px;\n",
              "    padding: 0;\n",
              "    width: 32px;\n",
              "  }\n",
              "\n",
              "  .colab-df-quickchart:hover {\n",
              "    background-color: var(--hover-bg-color);\n",
              "    box-shadow: 0 1px 2px rgba(60, 64, 67, 0.3), 0 1px 3px 1px rgba(60, 64, 67, 0.15);\n",
              "    fill: var(--button-hover-fill-color);\n",
              "  }\n",
              "\n",
              "  .colab-df-quickchart-complete:disabled,\n",
              "  .colab-df-quickchart-complete:disabled:hover {\n",
              "    background-color: var(--disabled-bg-color);\n",
              "    fill: var(--disabled-fill-color);\n",
              "    box-shadow: none;\n",
              "  }\n",
              "\n",
              "  .colab-df-spinner {\n",
              "    border: 2px solid var(--fill-color);\n",
              "    border-color: transparent;\n",
              "    border-bottom-color: var(--fill-color);\n",
              "    animation:\n",
              "      spin 1s steps(1) infinite;\n",
              "  }\n",
              "\n",
              "  @keyframes spin {\n",
              "    0% {\n",
              "      border-color: transparent;\n",
              "      border-bottom-color: var(--fill-color);\n",
              "      border-left-color: var(--fill-color);\n",
              "    }\n",
              "    20% {\n",
              "      border-color: transparent;\n",
              "      border-left-color: var(--fill-color);\n",
              "      border-top-color: var(--fill-color);\n",
              "    }\n",
              "    30% {\n",
              "      border-color: transparent;\n",
              "      border-left-color: var(--fill-color);\n",
              "      border-top-color: var(--fill-color);\n",
              "      border-right-color: var(--fill-color);\n",
              "    }\n",
              "    40% {\n",
              "      border-color: transparent;\n",
              "      border-right-color: var(--fill-color);\n",
              "      border-top-color: var(--fill-color);\n",
              "    }\n",
              "    60% {\n",
              "      border-color: transparent;\n",
              "      border-right-color: var(--fill-color);\n",
              "    }\n",
              "    80% {\n",
              "      border-color: transparent;\n",
              "      border-right-color: var(--fill-color);\n",
              "      border-bottom-color: var(--fill-color);\n",
              "    }\n",
              "    90% {\n",
              "      border-color: transparent;\n",
              "      border-bottom-color: var(--fill-color);\n",
              "    }\n",
              "  }\n",
              "</style>\n",
              "\n",
              "  <script>\n",
              "    async function quickchart(key) {\n",
              "      const quickchartButtonEl =\n",
              "        document.querySelector('#' + key + ' button');\n",
              "      quickchartButtonEl.disabled = true;  // To prevent multiple clicks.\n",
              "      quickchartButtonEl.classList.add('colab-df-spinner');\n",
              "      try {\n",
              "        const charts = await google.colab.kernel.invokeFunction(\n",
              "            'suggestCharts', [key], {});\n",
              "      } catch (error) {\n",
              "        console.error('Error during call to suggestCharts:', error);\n",
              "      }\n",
              "      quickchartButtonEl.classList.remove('colab-df-spinner');\n",
              "      quickchartButtonEl.classList.add('colab-df-quickchart-complete');\n",
              "    }\n",
              "    (() => {\n",
              "      let quickchartButtonEl =\n",
              "        document.querySelector('#df-653e799d-e6b2-4939-8303-130e04af329e button');\n",
              "      quickchartButtonEl.style.display =\n",
              "        google.colab.kernel.accessAllowed ? 'block' : 'none';\n",
              "    })();\n",
              "  </script>\n",
              "</div>\n",
              "\n",
              "    </div>\n",
              "  </div>\n"
            ]
          },
          "metadata": {},
          "execution_count": 5
        }
      ],
      "source": [
        "### Get summary of statistics of the data\n",
        "advertising_df.describe()"
      ]
    },
    {
      "cell_type": "code",
      "execution_count": 6,
      "metadata": {
        "id": "IzyfOhGaEzlL",
        "colab": {
          "base_uri": "https://localhost:8080/"
        },
        "outputId": "197f7f55-3be5-4d7d-fe60-e6b7a63479ba"
      },
      "outputs": [
        {
          "output_type": "execute_result",
          "data": {
            "text/plain": [
              "(1199, 5)"
            ]
          },
          "metadata": {},
          "execution_count": 6
        }
      ],
      "source": [
        "#shape of dataframe - 1199 rows, five columns\n",
        "advertising_df.shape"
      ]
    },
    {
      "cell_type": "markdown",
      "metadata": {
        "id": "6nNrSEBnBk71"
      },
      "source": [
        "Let's check for any null values."
      ]
    },
    {
      "cell_type": "code",
      "execution_count": 7,
      "metadata": {
        "id": "P7gHdfMdBk71",
        "colab": {
          "base_uri": "https://localhost:8080/"
        },
        "outputId": "c433e3b2-aa03-4741-b085-a8885693ec8e"
      },
      "outputs": [
        {
          "output_type": "execute_result",
          "data": {
            "text/plain": [
              "digital      0\n",
              "TV           0\n",
              "radio        0\n",
              "newspaper    0\n",
              "sales        0\n",
              "dtype: int64"
            ]
          },
          "metadata": {},
          "execution_count": 7
        }
      ],
      "source": [
        "# The isnull() method is used to check and manage NULL values in a data frame.\n",
        "advertising_df.isnull().sum()"
      ]
    },
    {
      "cell_type": "markdown",
      "metadata": {
        "id": "QWVdsrmgnO1_"
      },
      "source": [
        "## Exploratory Data Analysis (EDA)\n",
        "\n",
        "Let's create some simple plots to check out the data!  "
      ]
    },
    {
      "cell_type": "code",
      "execution_count": null,
      "metadata": {
        "id": "i8bsyyVPm13-"
      },
      "outputs": [],
      "source": [
        "## Plot the heatmap so that the values are shown.\n",
        "\n",
        "plt.figure(figsize=(10,5))\n",
        "sns.heatmap(advertising_df.corr(),annot=True,vmin=0,vmax=1,cmap='ocean')\n"
      ]
    },
    {
      "cell_type": "code",
      "execution_count": null,
      "metadata": {
        "id": "8UdKVi-2tNKI"
      },
      "outputs": [],
      "source": [
        "#create a correlation matrix\n",
        "corr = advertising_df.corr()\n",
        "plt.figure(figsize=(10, 5))\n",
        "sns.heatmap(corr[(corr >= 0.5) | (corr <= -0.7)],\n",
        "            cmap='viridis', vmax=1.0, vmin=-1.0, linewidths=0.1,\n",
        "            annot=True, annot_kws={\"size\": 8}, square=True)\n",
        "plt.tight_layout()\n",
        "display(plt.show())"
      ]
    },
    {
      "cell_type": "code",
      "source": [
        "advertising_df.corr()"
      ],
      "metadata": {
        "id": "X1tn4RQYA7o-"
      },
      "execution_count": null,
      "outputs": []
    },
    {
      "cell_type": "code",
      "execution_count": null,
      "metadata": {
        "id": "WKFX9SCauZp4"
      },
      "outputs": [],
      "source": [
        "### Visualize Correlation\n",
        "\n",
        "# Generate a mask for the upper triangle\n",
        "mask = np.zeros_like(advertising_df.corr(), dtype=np.bool)\n",
        "mask[np.triu_indices_from(mask)] = True\n",
        "\n",
        "# Set up the matplotlib figure\n",
        "f, ax = plt.subplots(figsize=(11, 9))\n",
        "\n",
        "# Generate a custom diverging colormap\n",
        "cmap = sns.diverging_palette(220, 10, as_cmap=True)\n",
        "\n",
        "# Draw the heatmap with the mask and correct aspect ratio\n",
        "sns.heatmap(advertising_df.corr(), mask=mask, cmap=cmap, vmax=.9, square=True, linewidths=.5, ax=ax)"
      ]
    },
    {
      "cell_type": "markdown",
      "metadata": {
        "id": "2eDQ9CNw3uej"
      },
      "source": [
        "Since Sales is our target variable, we should identify which variable correlates the most with Sales.\n",
        "\n",
        "As we can see, TV has the highest correlation with Sales.\n",
        "Let's visualize the relationship of variables using scatterplots."
      ]
    },
    {
      "cell_type": "markdown",
      "metadata": {
        "id": "3f7bN--N5TYF"
      },
      "source": [
        "Rather than plot them separately, an efficient way to view the linear relationsips between variables is to use a \"for loop\" that plots all of the features at once.\n",
        "\n",
        "It seems there's no clear linear relationships between the predictors.\n",
        "\n",
        "At this point, we know that the variable TV will more likely give better prediction of Sales because of the high correlation and linearity of the two."
      ]
    },
    {
      "cell_type": "code",
      "execution_count": null,
      "metadata": {
        "id": "otYqhhMapHhY"
      },
      "outputs": [],
      "source": [
        "'''=== Show the linear relationship between features  and sales Thus, it provides that how the scattered\n",
        "      they are and which features has more impact in prediction of house price. ==='''\n",
        "\n",
        "# visiualize all variables  with sales\n",
        "from scipy import stats\n",
        "#creates figure\n",
        "plt.figure(figsize=(18, 18))\n",
        "\n",
        "for i, col in enumerate(advertising_df.columns[0:13]): #iterates over all columns except for price column (last one)\n",
        "    plt.subplot(5, 3, i+1) # each row three figure\n",
        "    x = advertising_df[col] #x-axis\n",
        "    y = advertising_df['sales'] #y-axis\n",
        "    plt.plot(x, y, 'o')\n",
        "\n",
        "    # Create regression line\n",
        "    plt.plot(np.unique(x), np.poly1d(np.polyfit(x, y, 1)) (np.unique(x)), color='red')\n",
        "    plt.xlabel(col) # x-label\n",
        "    plt.ylabel('sales') # y-label\n"
      ]
    },
    {
      "cell_type": "markdown",
      "metadata": {
        "id": "ThNRxdAmA5fQ"
      },
      "source": [
        "Concluding results after observing the Graph\n",
        "The relation bw TV and Sales is stong and increases in linear fashion\n",
        "The relation bw Radio and Sales is less stong\n",
        "The relation bw TV and Sales is weak"
      ]
    },
    {
      "cell_type": "markdown",
      "metadata": {
        "id": "OIPKB4hanO2F"
      },
      "source": [
        "## Training a Linear Regression Model\n",
        "\n",
        "Regression is a supervised machine learning process.  It is similar to classification, but rather than predicting a label, you try to predict a continuous value.   Linear regression defines the relationship between a target variable (y) and a set of predictive features (x).  Simply stated, If you need to predict a number, then use regression.\n",
        "\n",
        "Let's now begin to train your regression model! You will need to first split up your data into an x array that contains the features to train on, and a y array with the target variable, in this case the Price column. You will toss out the Address column because it only has text info that the linear regression model can't use."
      ]
    },
    {
      "cell_type": "markdown",
      "metadata": {
        "id": "KFDhhs1KA22t"
      },
      "source": [
        "#### Data Preprocessing"
      ]
    },
    {
      "cell_type": "markdown",
      "metadata": {
        "id": "l0NjRPeFBk74"
      },
      "source": [
        "##### Split: x (features) and y (target)\n",
        "Next, let's define the features and label.  Briefly, feature is input; label is output. This applies to both classification and regression problems."
      ]
    },
    {
      "cell_type": "code",
      "execution_count": 8,
      "metadata": {
        "id": "ZEEGuBAnnO2F"
      },
      "outputs": [],
      "source": [
        "x = advertising_df[['digital', 'TV', 'radio', 'newspaper']]\n",
        "y = advertising_df['sales']\n",
        "\n"
      ]
    },
    {
      "cell_type": "markdown",
      "metadata": {
        "id": "lXgBbCFcBCfG"
      },
      "source": [
        "##### Scaling (Normalization)"
      ]
    },
    {
      "cell_type": "code",
      "execution_count": 9,
      "metadata": {
        "id": "hVOPQyd2HtxP"
      },
      "outputs": [],
      "source": [
        "'''=== Noramlization the features. Since it is seen that features have different ranges, it is best practice to\n",
        "normalize/standarize the feature before using them in the model ==='''\n",
        "\n",
        "#feature normalization\n",
        "normalized_feature =  keras.utils.normalize(x.values)\n",
        "\n"
      ]
    },
    {
      "cell_type": "markdown",
      "metadata": {
        "id": "X97FWdDOnO2H"
      },
      "source": [
        "##### Train - Test - Split\n",
        "\n",
        "Now let's split the data into a training and test set.  Note:  Best pracices is to split into three - training, validation, and test set.\n",
        "\n",
        "By default - It splits the given data into 75-25 ratio\n"
      ]
    },
    {
      "cell_type": "code",
      "execution_count": 10,
      "metadata": {
        "id": "fS99Llq8nO2J"
      },
      "outputs": [],
      "source": [
        "# Import train_test_split function from sklearn.model_selection\n",
        "from sklearn.model_selection import train_test_split\n",
        "\n",
        "# Split up the data into a training set\n",
        "x_train, x_test, y_train, y_test = train_test_split(x, y, test_size=0.4, random_state=101)"
      ]
    },
    {
      "cell_type": "code",
      "execution_count": 11,
      "metadata": {
        "id": "K4p_3UGEcqPb",
        "colab": {
          "base_uri": "https://localhost:8080/"
        },
        "outputId": "8eb280a0-bd0c-4172-90b4-c1cf18958f68"
      },
      "outputs": [
        {
          "output_type": "stream",
          "name": "stdout",
          "text": [
            "(719, 4) (480, 4) (719,) (480,)\n"
          ]
        }
      ],
      "source": [
        "print(x_train.shape,x_test.shape, y_train.shape, y_test.shape )"
      ]
    },
    {
      "cell_type": "markdown",
      "metadata": {
        "id": "mdc8pL4TIb9k"
      },
      "source": [
        "# Step 2:  Build Network\n"
      ]
    },
    {
      "cell_type": "markdown",
      "metadata": {
        "id": "J10hkM7BAhbh"
      },
      "source": [
        "#### Build and Train the Network"
      ]
    },
    {
      "cell_type": "code",
      "execution_count": null,
      "metadata": {
        "id": "K-_Vage0th27"
      },
      "outputs": [],
      "source": [
        "## Build Model (Building a three layer network - with one hidden layer)\n",
        "model = Sequential()\n",
        "model.add(Dense(4,input_dim=4, activation='relu'))                                                  # You don't have to specify input size.Just define the hidden layers\n",
        "model.add(Dense(3,activation='relu'))\n",
        "model.add(Dense(1))\n",
        "\n",
        "# Compile Model\n",
        "model.compile(optimizer='adam', loss='mse',metrics=['mse'])\n",
        "\n",
        "#  Fit the Model\n",
        "history = model.fit(x_train, y_train, validation_data = (x_test, y_test),\n",
        "                    epochs = 32)\n",
        "\n"
      ]
    },
    {
      "cell_type": "markdown",
      "metadata": {
        "id": "RHBzoonKnFfj"
      },
      "source": [
        "### Visualization"
      ]
    },
    {
      "cell_type": "markdown",
      "metadata": {
        "id": "ktMqgjoDGAe7"
      },
      "source": [
        "You can add more 'flavor' to the graph by making it bigger and adding labels and names, as shown below."
      ]
    },
    {
      "cell_type": "code",
      "execution_count": 19,
      "metadata": {
        "id": "jB1VUt-bmTPH",
        "colab": {
          "base_uri": "https://localhost:8080/",
          "height": 718
        },
        "outputId": "729ef5a4-3a92-4f8a-9742-4fa433d9ffca"
      },
      "outputs": [
        {
          "output_type": "display_data",
          "data": {
            "text/plain": [
              "<Figure size 1500x800 with 1 Axes>"
            ],
            "image/png": "[encoded data removed]"
          },
          "metadata": {}
        }
      ],
      "source": [
        "## Plot a graph of model loss # show the graph of model loss in trainig and validation\n",
        "\n",
        "plt.figure(figsize=(15,8))\n",
        "plt.plot(history.history['loss'])\n",
        "plt.plot(history.history['val_loss'])\n",
        "plt.title('Model Loss (MSE) on Training and Validation Data')\n",
        "plt.ylabel('Loss-Mean Squred Error')\n",
        "plt.xlabel('Epoch')\n",
        "plt.legend(['Val Loss', 'Train Loss'], loc='upper right')\n",
        "plt.show()\n",
        "\n"
      ]
    },
    {
      "cell_type": "markdown",
      "source": [
        "# Step 3:  Tune the Neural Network Hyperparameters"
      ],
      "metadata": {
        "id": "qja3d7BkyaKP"
      }
    },
    {
      "cell_type": "markdown",
      "source": [
        "## CHALLENGE: Manual Hyperparameter Tuning"
      ],
      "metadata": {
        "id": "fOikBhQYwBhG"
      }
    },
    {
      "cell_type": "markdown",
      "source": [
        "Play with:\n",
        "1. Adding additional layers\n",
        "2. Adding additional neurons\n",
        "3. Change the number of epochs.\n",
        "\n",
        "NOTE: After each change, run the cell to plot the graph and review the loss curves."
      ],
      "metadata": {
        "id": "TH4MgbsVyRhB"
      }
    },
    {
      "cell_type": "code",
      "source": [
        "## Build Model\n",
        "model = Sequential()\n",
        "model.add(Dense(4,input_dim=4, activation='relu'))\n",
        "model.add(Dense(4,activation='relu'))\n",
        "model.add(Dense(4,activation='relu'))\n",
        "model.add(Dense(1))\n",
        "\n",
        "# Compile Model\n",
        "# opt = keras.optimizers.Adam(learning_rate = .001)\n",
        "model.compile(optimizer='adam', loss='mse',metrics=['mse'])\n",
        "\n",
        "# from keras.callbacks import EarlyStopping\n",
        "# es = EarlyStopping(monitor = 'val_loss', mode = 'min', verbose = 1)\n",
        "\n",
        "#  Fit the Model\n",
        "history = model.fit(x_train, y_train, validation_data = (x_test, y_test),\n",
        "                    epochs = 64)"
      ],
      "metadata": {
        "id": "C-urqQicwAdn",
        "colab": {
          "base_uri": "https://localhost:8080/"
        },
        "outputId": "d02743a3-e384-4921-b2dc-1936b5461858"
      },
      "execution_count": 17,
      "outputs": [
        {
          "output_type": "stream",
          "name": "stdout",
          "text": [
            "Epoch 1/64\n",
            "23/23 [==============================] - 2s 18ms/step - loss: 1446.5731 - mse: 1446.5731 - val_loss: 932.6426 - val_mse: 932.6426\n",
            "Epoch 2/64\n",
            "23/23 [==============================] - 0s 8ms/step - loss: 697.1082 - mse: 697.1082 - val_loss: 440.1235 - val_mse: 440.1235\n",
            "Epoch 3/64\n",
            "23/23 [==============================] - 0s 8ms/step - loss: 359.7109 - mse: 359.7109 - val_loss: 248.5583 - val_mse: 248.5583\n",
            "Epoch 4/64\n",
            "23/23 [==============================] - 0s 6ms/step - loss: 230.8893 - mse: 230.8893 - val_loss: 183.3945 - val_mse: 183.3945\n",
            "Epoch 5/64\n",
            "23/23 [==============================] - 0s 6ms/step - loss: 182.2216 - mse: 182.2216 - val_loss: 164.3339 - val_mse: 164.3339\n",
            "Epoch 6/64\n",
            "23/23 [==============================] - 0s 8ms/step - loss: 167.1685 - mse: 167.1685 - val_loss: 155.3050 - val_mse: 155.3050\n",
            "Epoch 7/64\n",
            "23/23 [==============================] - 0s 6ms/step - loss: 157.5065 - mse: 157.5065 - val_loss: 144.5975 - val_mse: 144.5975\n",
            "Epoch 8/64\n",
            "23/23 [==============================] - 0s 4ms/step - loss: 138.6415 - mse: 138.6415 - val_loss: 105.7670 - val_mse: 105.7670\n",
            "Epoch 9/64\n",
            "23/23 [==============================] - 0s 6ms/step - loss: 89.5252 - mse: 89.5252 - val_loss: 51.7229 - val_mse: 51.7229\n",
            "Epoch 10/64\n",
            "23/23 [==============================] - 0s 4ms/step - loss: 52.3464 - mse: 52.3464 - val_loss: 37.3163 - val_mse: 37.3163\n",
            "Epoch 11/64\n",
            "23/23 [==============================] - 0s 4ms/step - loss: 39.2727 - mse: 39.2727 - val_loss: 29.0640 - val_mse: 29.0640\n",
            "Epoch 12/64\n",
            "23/23 [==============================] - 0s 4ms/step - loss: 31.6308 - mse: 31.6308 - val_loss: 25.2840 - val_mse: 25.2840\n",
            "Epoch 13/64\n",
            "23/23 [==============================] - 0s 4ms/step - loss: 27.9383 - mse: 27.9383 - val_loss: 23.0983 - val_mse: 23.0983\n",
            "Epoch 14/64\n",
            "23/23 [==============================] - 0s 6ms/step - loss: 25.8310 - mse: 25.8310 - val_loss: 21.8626 - val_mse: 21.8626\n",
            "Epoch 15/64\n",
            "23/23 [==============================] - 0s 4ms/step - loss: 24.2730 - mse: 24.2730 - val_loss: 20.8600 - val_mse: 20.8600\n",
            "Epoch 16/64\n",
            "23/23 [==============================] - 0s 6ms/step - loss: 23.2982 - mse: 23.2982 - val_loss: 20.1143 - val_mse: 20.1143\n",
            "Epoch 17/64\n",
            "23/23 [==============================] - 0s 6ms/step - loss: 22.2844 - mse: 22.2844 - val_loss: 19.3038 - val_mse: 19.3038\n",
            "Epoch 18/64\n",
            "23/23 [==============================] - 0s 4ms/step - loss: 21.3965 - mse: 21.3965 - val_loss: 18.6117 - val_mse: 18.6117\n",
            "Epoch 19/64\n",
            "23/23 [==============================] - 0s 4ms/step - loss: 20.6070 - mse: 20.6070 - val_loss: 17.9599 - val_mse: 17.9599\n",
            "Epoch 20/64\n",
            "23/23 [==============================] - 0s 6ms/step - loss: 19.9518 - mse: 19.9518 - val_loss: 17.3306 - val_mse: 17.3306\n",
            "Epoch 21/64\n",
            "23/23 [==============================] - 0s 4ms/step - loss: 19.2623 - mse: 19.2623 - val_loss: 16.8135 - val_mse: 16.8135\n",
            "Epoch 22/64\n",
            "23/23 [==============================] - 0s 6ms/step - loss: 18.7833 - mse: 18.7833 - val_loss: 16.2480 - val_mse: 16.2480\n",
            "Epoch 23/64\n",
            "23/23 [==============================] - 0s 6ms/step - loss: 18.1268 - mse: 18.1268 - val_loss: 15.8320 - val_mse: 15.8320\n",
            "Epoch 24/64\n",
            "23/23 [==============================] - 0s 4ms/step - loss: 17.6178 - mse: 17.6178 - val_loss: 15.3066 - val_mse: 15.3066\n",
            "Epoch 25/64\n",
            "23/23 [==============================] - 0s 4ms/step - loss: 17.1113 - mse: 17.1113 - val_loss: 14.9710 - val_mse: 14.9710\n",
            "Epoch 26/64\n",
            "23/23 [==============================] - 0s 6ms/step - loss: 16.6294 - mse: 16.6294 - val_loss: 14.4983 - val_mse: 14.4983\n",
            "Epoch 27/64\n",
            "23/23 [==============================] - 0s 4ms/step - loss: 16.1814 - mse: 16.1814 - val_loss: 14.2319 - val_mse: 14.2319\n",
            "Epoch 28/64\n",
            "23/23 [==============================] - 0s 6ms/step - loss: 15.7134 - mse: 15.7134 - val_loss: 13.8717 - val_mse: 13.8717\n",
            "Epoch 29/64\n",
            "23/23 [==============================] - 0s 6ms/step - loss: 15.3066 - mse: 15.3066 - val_loss: 13.4984 - val_mse: 13.4984\n",
            "Epoch 30/64\n",
            "23/23 [==============================] - 0s 4ms/step - loss: 14.9697 - mse: 14.9697 - val_loss: 13.1663 - val_mse: 13.1663\n",
            "Epoch 31/64\n",
            "23/23 [==============================] - 0s 4ms/step - loss: 14.6193 - mse: 14.6193 - val_loss: 12.9058 - val_mse: 12.9058\n",
            "Epoch 32/64\n",
            "23/23 [==============================] - 0s 4ms/step - loss: 14.2209 - mse: 14.2209 - val_loss: 12.6133 - val_mse: 12.6133\n",
            "Epoch 33/64\n",
            "23/23 [==============================] - 0s 4ms/step - loss: 13.9552 - mse: 13.9552 - val_loss: 12.3712 - val_mse: 12.3712\n",
            "Epoch 34/64\n",
            "23/23 [==============================] - 0s 4ms/step - loss: 13.6513 - mse: 13.6513 - val_loss: 12.1170 - val_mse: 12.1170\n",
            "Epoch 35/64\n",
            "23/23 [==============================] - 0s 6ms/step - loss: 13.2873 - mse: 13.2873 - val_loss: 11.8190 - val_mse: 11.8190\n",
            "Epoch 36/64\n",
            "23/23 [==============================] - 0s 5ms/step - loss: 13.0306 - mse: 13.0306 - val_loss: 11.6380 - val_mse: 11.6380\n",
            "Epoch 37/64\n",
            "23/23 [==============================] - 0s 4ms/step - loss: 12.7647 - mse: 12.7647 - val_loss: 11.4030 - val_mse: 11.4030\n",
            "Epoch 38/64\n",
            "23/23 [==============================] - 0s 6ms/step - loss: 12.4518 - mse: 12.4518 - val_loss: 11.2019 - val_mse: 11.2019\n",
            "Epoch 39/64\n",
            "23/23 [==============================] - 0s 4ms/step - loss: 12.1822 - mse: 12.1822 - val_loss: 10.9857 - val_mse: 10.9857\n",
            "Epoch 40/64\n",
            "23/23 [==============================] - 0s 6ms/step - loss: 12.0066 - mse: 12.0066 - val_loss: 10.8074 - val_mse: 10.8074\n",
            "Epoch 41/64\n",
            "23/23 [==============================] - 0s 6ms/step - loss: 11.6625 - mse: 11.6625 - val_loss: 10.4824 - val_mse: 10.4824\n",
            "Epoch 42/64\n",
            "23/23 [==============================] - 0s 4ms/step - loss: 11.3761 - mse: 11.3761 - val_loss: 10.3147 - val_mse: 10.3147\n",
            "Epoch 43/64\n",
            "23/23 [==============================] - 0s 4ms/step - loss: 11.1486 - mse: 11.1486 - val_loss: 10.1643 - val_mse: 10.1643\n",
            "Epoch 44/64\n",
            "23/23 [==============================] - 0s 6ms/step - loss: 10.8717 - mse: 10.8717 - val_loss: 9.9367 - val_mse: 9.9367\n",
            "Epoch 45/64\n",
            "23/23 [==============================] - 0s 4ms/step - loss: 10.6251 - mse: 10.6251 - val_loss: 9.7272 - val_mse: 9.7272\n",
            "Epoch 46/64\n",
            "23/23 [==============================] - 0s 4ms/step - loss: 10.4087 - mse: 10.4087 - val_loss: 9.6033 - val_mse: 9.6033\n",
            "Epoch 47/64\n",
            "23/23 [==============================] - 0s 5ms/step - loss: 10.1408 - mse: 10.1408 - val_loss: 9.3963 - val_mse: 9.3963\n",
            "Epoch 48/64\n",
            "23/23 [==============================] - 0s 6ms/step - loss: 9.9316 - mse: 9.9316 - val_loss: 9.2566 - val_mse: 9.2566\n",
            "Epoch 49/64\n",
            "23/23 [==============================] - 0s 4ms/step - loss: 9.7141 - mse: 9.7141 - val_loss: 9.1138 - val_mse: 9.1138\n",
            "Epoch 50/64\n",
            "23/23 [==============================] - 0s 4ms/step - loss: 9.7478 - mse: 9.7478 - val_loss: 9.0995 - val_mse: 9.0995\n",
            "Epoch 51/64\n",
            "23/23 [==============================] - 0s 4ms/step - loss: 9.3310 - mse: 9.3310 - val_loss: 8.8247 - val_mse: 8.8247\n",
            "Epoch 52/64\n",
            "23/23 [==============================] - 0s 4ms/step - loss: 9.1621 - mse: 9.1621 - val_loss: 8.6437 - val_mse: 8.6437\n",
            "Epoch 53/64\n",
            "23/23 [==============================] - 0s 4ms/step - loss: 8.9486 - mse: 8.9486 - val_loss: 8.4567 - val_mse: 8.4567\n",
            "Epoch 54/64\n",
            "23/23 [==============================] - 0s 4ms/step - loss: 8.7760 - mse: 8.7760 - val_loss: 8.3923 - val_mse: 8.3923\n",
            "Epoch 55/64\n",
            "23/23 [==============================] - 0s 4ms/step - loss: 8.6227 - mse: 8.6227 - val_loss: 8.3374 - val_mse: 8.3374\n",
            "Epoch 56/64\n",
            "23/23 [==============================] - 0s 4ms/step - loss: 8.5099 - mse: 8.5099 - val_loss: 8.1140 - val_mse: 8.1140\n",
            "Epoch 57/64\n",
            "23/23 [==============================] - 0s 4ms/step - loss: 8.2553 - mse: 8.2553 - val_loss: 7.9764 - val_mse: 7.9764\n",
            "Epoch 58/64\n",
            "23/23 [==============================] - 0s 6ms/step - loss: 8.1330 - mse: 8.1330 - val_loss: 7.8475 - val_mse: 7.8475\n",
            "Epoch 59/64\n",
            "23/23 [==============================] - 0s 4ms/step - loss: 7.9674 - mse: 7.9674 - val_loss: 7.7514 - val_mse: 7.7514\n",
            "Epoch 60/64\n",
            "23/23 [==============================] - 0s 6ms/step - loss: 7.8493 - mse: 7.8493 - val_loss: 7.6821 - val_mse: 7.6821\n",
            "Epoch 61/64\n",
            "23/23 [==============================] - 0s 6ms/step - loss: 7.7020 - mse: 7.7020 - val_loss: 7.5081 - val_mse: 7.5081\n",
            "Epoch 62/64\n",
            "23/23 [==============================] - 0s 6ms/step - loss: 7.5957 - mse: 7.5957 - val_loss: 7.4029 - val_mse: 7.4029\n",
            "Epoch 63/64\n",
            "23/23 [==============================] - 0s 5ms/step - loss: 7.4485 - mse: 7.4485 - val_loss: 7.2964 - val_mse: 7.2964\n",
            "Epoch 64/64\n",
            "23/23 [==============================] - 0s 6ms/step - loss: 7.3067 - mse: 7.3067 - val_loss: 7.1952 - val_mse: 7.1952\n"
          ]
        }
      ]
    },
    {
      "cell_type": "code",
      "source": [
        "plt.figure(figsize=(15,8))\n",
        "plt.plot(history.history['loss'])\n",
        "plt.plot(history.history['val_loss'])\n",
        "plt.title('Model Loss (MSE) on Training and Validation Data')\n",
        "plt.ylabel('Loss-Mean Squred Error')\n",
        "plt.xlabel('Epoch')\n",
        "plt.legend(['Val Loss', 'Train Loss'], loc='upper right')\n",
        "plt.show()"
      ],
      "metadata": {
        "id": "GLCPzbzYxNll",
        "colab": {
          "base_uri": "https://localhost:8080/",
          "height": 718
        },
        "outputId": "e3a8445d-1616-4cd8-ed21-e9a3282a4bd4"
      },
      "execution_count": 18,
      "outputs": [
        {
          "output_type": "display_data",
          "data": {
            "text/plain": [
              "<Figure size 1500x800 with 1 Axes>"
            ],
            "image/png": "[encoded data removed]"
          },
          "metadata": {}
        }
      ]
    }
  ],
  "metadata": {
    "colab": {
      "provenance": []
    },
    "environment": {
      "kernel": "python3",
      "name": "tf2-gpu.2-6.m87",
      "type": "gcloud",
      "uri": "gcr.io/deeplearning-platform-release/tf2-gpu.2-6:m87"
    },
    "kernelspec": {
      "display_name": "Python 3",
      "language": "python",
      "name": "python3"
    },
    "language_info": {
      "codemirror_mode": {
        "name": "ipython",
        "version": 3
      },
      "file_extension": ".py",
      "mimetype": "text/x-python",
      "name": "python",
      "nbconvert_exporter": "python",
      "pygments_lexer": "ipython3",
      "version": "3.7.12"
    }
  },
  "nbformat": 4,
  "nbformat_minor": 0
}